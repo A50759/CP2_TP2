{
 "cells": [
  {
   "cell_type": "markdown",
   "metadata": {},
   "source": [
    "# ISEL - CPS \n",
    "## Semestre 2023/24\n",
    "# <br>\n",
    "###  <center> Trabalho Prático 2 - Análise de som 3D</center>\n",
    "# </br>\n",
    "\n",
    "\n",
    "Trabalho realizado por:\n",
    "* Bruno Viegas, número <b> 50759 </b>\n",
    "* Carlos Ceita, número <b> 50950 </b>\n",
    "* Gonçalo Charneca, número <b> 50727 </b>\n",
    "\n",
    "<b> Turma 31D - Docente </b>\n",
    "\n",
    "<b> Nota: na entrega o nome do ficheiro deve ser alterado para conter o número dos alunos do grupo:</b>\n",
    "CPS_T1_Num1_Num2_Num3.ipynb\n",
    "\n",
    "Devem usar o style guide PEP8: https://peps.python.org/pep-0008/\n"
   ]
  },
  {
   "cell_type": "markdown",
   "metadata": {},
   "source": [
    "## Imports"
   ]
  },
  {
   "cell_type": "code",
   "execution_count": 30,
   "metadata": {},
   "outputs": [
    {
     "name": "stderr",
     "output_type": "stream",
     "text": [
      "C:\\Users\\Legion\\AppData\\Local\\Temp\\ipykernel_22340\\1214523533.py:6: WavFileWarning: Chunk (non-data) not understood, skipping it.\n",
      "  fs, data1 = wav.read('Sons/01_Bass.wav')\n",
      "C:\\Users\\Legion\\AppData\\Local\\Temp\\ipykernel_22340\\1214523533.py:7: WavFileWarning: Chunk (non-data) not understood, skipping it.\n",
      "  fs, data2 = wav.read('Sons/02_Piano.wav')\n",
      "C:\\Users\\Legion\\AppData\\Local\\Temp\\ipykernel_22340\\1214523533.py:8: WavFileWarning: Chunk (non-data) not understood, skipping it.\n",
      "  fs, data3 = wav.read('Sons/03_Hammond1.wav')\n",
      "C:\\Users\\Legion\\AppData\\Local\\Temp\\ipykernel_22340\\1214523533.py:9: WavFileWarning: Chunk (non-data) not understood, skipping it.\n",
      "  fs, data4 = wav.read('Sons/04_Hammond2.wav')\n",
      "C:\\Users\\Legion\\AppData\\Local\\Temp\\ipykernel_22340\\1214523533.py:10: WavFileWarning: Chunk (non-data) not understood, skipping it.\n",
      "  fs, data5 = wav.read('Sons/05_Synth1.wav')\n",
      "C:\\Users\\Legion\\AppData\\Local\\Temp\\ipykernel_22340\\1214523533.py:11: WavFileWarning: Chunk (non-data) not understood, skipping it.\n",
      "  fs, data6 = wav.read('Sons/06_Synth2.wav')\n",
      "C:\\Users\\Legion\\AppData\\Local\\Temp\\ipykernel_22340\\1214523533.py:12: WavFileWarning: Chunk (non-data) not understood, skipping it.\n",
      "  fs, data7 = wav.read('Sons/07_ElecGtr.wav')\n"
     ]
    }
   ],
   "source": [
    "import numpy as np\n",
    "import matplotlib.pyplot as plt\n",
    "import scipy.io.wavfile as wav\n",
    "\n",
    "\n",
    "fs, data1 = wav.read('Sons/01_Bass.wav') \n",
    "fs, data2 = wav.read('Sons/02_Piano.wav') \n",
    "fs, data3 = wav.read('Sons/03_Hammond1.wav')\n",
    "fs, data4 = wav.read('Sons/04_Hammond2.wav')\n",
    "fs, data5 = wav.read('Sons/05_Synth1.wav')\n",
    "fs, data6 = wav.read('Sons/06_Synth2.wav')\n",
    "fs, data7 = wav.read('Sons/07_ElecGtr.wav')\n",
    "\n",
    "data1\n",
    "data2 = data2[:,0]\n",
    "data3 = data3[:,0]\n",
    "data4 = data4[:,0]\n",
    "data5 = data5[:,0]\n",
    "data6 = data6[:,0]\n",
    "data7 = data7[:,0]\n",
    "\n"
   ]
  },
  {
   "cell_type": "markdown",
   "metadata": {},
   "source": [
    "## Criação do Ambiente"
   ]
  },
  {
   "cell_type": "code",
   "execution_count": null,
   "metadata": {},
   "outputs": [],
   "source": [
    "import math\n",
    "\n",
    "distance = 10\n",
    "\n",
    "Ouvinte = {\n",
    "    'x': 20,\n",
    "    'y': 20\n",
    "}\n",
    "angleStep = 2 * math.pi / 7\n",
    "\n",
    "Source1 = {\n",
    "    'x': Ouvinte.get('x') + distance * np.around(math.cos(0 * angleStep + math.pi / 2),decimals=5),\n",
    "    'y': Ouvinte.get('y') + distance * np.around(math.sin(0 * angleStep + math.pi / 2),decimals=5)\n",
    "}\n",
    "Source2 = {\n",
    "    'x': Ouvinte.get('x') + distance * np.around(math.cos(1 * angleStep + math.pi / 2),decimals=5),\n",
    "    'y': Ouvinte.get('y') + distance * np.around(math.sin(1 * angleStep + math.pi / 2),decimals=5)\n",
    "}\n",
    "Source3 = {\n",
    "    'x': Ouvinte.get('x') + distance * np.around(math.cos(2 * angleStep + math.pi / 2),decimals=5),\n",
    "    'y': Ouvinte.get('y') + distance * np.around(math.sin(2 * angleStep + math.pi / 2),decimals=5)\n",
    "}\n",
    "Source4 = {\n",
    "    'x': Ouvinte.get('x') + distance * np.around(math.cos(3 * angleStep + math.pi / 2),decimals=5),\n",
    "    'y': Ouvinte.get('y') + distance * np.around(math.sin(3 * angleStep + math.pi / 2),decimals=5)\n",
    "}\n",
    "Source5 = {\n",
    "    'x': Ouvinte.get('x') + distance * np.around(math.cos(4 * angleStep + math.pi / 2),decimals=5),\n",
    "    'y': Ouvinte.get('y') + distance * np.around(math.sin(4 * angleStep + math.pi / 2),decimals=5)\n",
    "}\n",
    "Source6 = {\n",
    "    'x': Ouvinte.get('x') + distance * np.around(math.cos(5 * angleStep + math.pi / 2),decimals=5),\n",
    "    'y': Ouvinte.get('y') + distance * np.around(math.sin(5 * angleStep + math.pi / 2),decimals=5)\n",
    "}\n",
    "Source7 = {\n",
    "    'x': Ouvinte.get('x') + distance * np.around(math.cos(6 * angleStep + math.pi / 2),decimals=5),\n",
    "    'y': Ouvinte.get('y') + distance * np.around(math.sin(6 * angleStep + math.pi / 2),decimals=5)\n",
    "}\n",
    "\n",
    "\n",
    "\n",
    "\n"
   ]
  },
  {
   "cell_type": "markdown",
   "metadata": {},
   "source": [
    "## Questão 1"
   ]
  },
  {
   "cell_type": "code",
   "execution_count": null,
   "metadata": {},
   "outputs": [],
   "source": [
    "vSom = 343\n",
    "\n",
    "distanciaOD = math.sqrt((Source1.get(\"x\") - Ouvinte.get(\"x\"))**2 + (Source1.get(\"y\") - Ouvinte.get(\"y\"))**2)\n",
    "atrasoOD = distanciaOD / vSom\n",
    "nAmostrasOD = atrasoOD * fs\n",
    "ondaDireta = np.hstack(np.zeros(int(nAmostrasOD)), data1)\n",
    "\n",
    "\n",
    "distanciaOR1 = math.sqrt((-1 * Source1.get(\"x\") - Ouvinte.get(\"x\"))**2 + (Source1.get(\"y\") - Ouvinte.get(\"y\"))**2)\n",
    "atrasoOR1 = distanciaOR1 / vSom\n",
    "nAmostrasOR1 = atrasoOR1 * fs\n",
    "\n",
    "\n",
    "\n",
    "\n"
   ]
  }
 ],
 "metadata": {
  "kernelspec": {
   "display_name": "Python 3",
   "language": "python",
   "name": "python3"
  },
  "language_info": {
   "codemirror_mode": {
    "name": "ipython",
    "version": 3
   },
   "file_extension": ".py",
   "mimetype": "text/x-python",
   "name": "python",
   "nbconvert_exporter": "python",
   "pygments_lexer": "ipython3",
   "version": "3.11.7"
  }
 },
 "nbformat": 4,
 "nbformat_minor": 2
}
